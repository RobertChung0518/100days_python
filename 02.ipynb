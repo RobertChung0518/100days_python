{
 "cells": [
  {
   "cell_type": "code",
   "execution_count": null,
   "metadata": {},
   "outputs": [
    {
     "name": "stdout",
     "output_type": "stream",
     "text": [
      "1001\n",
      "999\n",
      "1000\n",
      "1000.0\n"
     ]
    }
   ],
   "source": [
    "a = 1000\n",
    "b = 1\n",
    "\n",
    "print(a + b)\n",
    "print(a - b)\n",
    "print(a * b)\n",
    "print(a / b)"
   ]
  },
  {
   "cell_type": "code",
   "execution_count": null,
   "metadata": {},
   "outputs": [],
   "source": [
    "a = 100\n",
    "b = 12.345\n",
    "c = 1 + 5j\n",
    "d = 'hello, world'\n",
    "e = True\n",
    "\n",
    "print(type(a))\n",
    "print(type(b))\n",
    "print(type(c))\n",
    "print(type(d))\n",
    "print(type(e))"
   ]
  },
  {
   "cell_type": "code",
   "execution_count": null,
   "metadata": {},
   "outputs": [],
   "source": [
    "a = int(input('a = '))\n",
    "b = int(input('b = '))\n",
    "print('%d + %d = %d' % (a, b, a + b))\n",
    "print('%d - %d = %d' % (a , b , a - b))\n",
    "print('%d * %d = %d' % (a , b , a * b))\n",
    "print('%d / %d = %d' % (a , b , a / b))\n",
    "print('%d // %d = %d' % (a , b , a // b))\n",
    "print('%d %% %d = %d' % (a , b , a % b))\n",
    "print('%d ** %d = %d' % (a , b , a ** b))"
   ]
  },
  {
   "cell_type": "code",
   "execution_count": 11,
   "metadata": {},
   "outputs": [
    {
     "name": "stdout",
     "output_type": "stream",
     "text": [
      "195\n"
     ]
    }
   ],
   "source": [
    "a = 10\n",
    "b = 3\n",
    "a += b          # a = a + b\n",
    "a *= a + 2      # a = a * (a + 2)\n",
    "print(a)"
   ]
  },
  {
   "cell_type": "code",
   "execution_count": 24,
   "metadata": {},
   "outputs": [
    {
     "name": "stdout",
     "output_type": "stream",
     "text": [
      "flag0 = True\n",
      "flag1 = True\n",
      "flag2 = False\n",
      "flag3 = False\n",
      "flag4 = True\n",
      "flag5 = False\n",
      "flag6 = True\n"
     ]
    }
   ],
   "source": [
    "flag0 = 1 == 1\n",
    "flag1 = 3 > 2\n",
    "flag2 = 2 < 1\n",
    "flag3 = flag1 and flag2\n",
    "flag4 = flag1 or flag2\n",
    "flag5 = not (1 != 2)\n",
    "flag6 = (1 != 2)\n",
    "print('flag0 =', flag0)\n",
    "print('flag1 =', flag1)\n",
    "print('flag2 =', flag2)\n",
    "print('flag3 =', flag3)\n",
    "print('flag4 =', flag4)\n",
    "print('flag5 =', flag5)\n",
    "print('flag6 =', flag6)"
   ]
  },
  {
   "cell_type": "markdown",
   "metadata": {},
   "source": [
    "### 1. 華氏轉攝氏"
   ]
  },
  {
   "cell_type": "code",
   "execution_count": 39,
   "metadata": {},
   "outputs": [
    {
     "name": "stdout",
     "output_type": "stream",
     "text": [
      "80.0華氏 = 26.7攝氏\n"
     ]
    }
   ],
   "source": [
    "f = float(input('請輸入華氏溫度: '))\n",
    "c = (f - 32) / 1.8\n",
    "print('%.1f華氏 = %.1f攝氏' %(f , c))"
   ]
  },
  {
   "cell_type": "code",
   "execution_count": 42,
   "metadata": {},
   "outputs": [
    {
     "name": "stdout",
     "output_type": "stream",
     "text": [
      "80.0華氏 = 26.7攝氏\n"
     ]
    }
   ],
   "source": [
    "f = float(input('請輸入華氏溫度: '))\n",
    "c = (f - 32) / 1.8\n",
    "print(f'{f:.1f}華氏 = {c:.1f}攝氏')"
   ]
  },
  {
   "cell_type": "markdown",
   "metadata": {},
   "source": [
    "### 2. 圓周長與面積計算"
   ]
  },
  {
   "cell_type": "code",
   "execution_count": null,
   "metadata": {},
   "outputs": [
    {
     "name": "stdout",
     "output_type": "stream",
     "text": [
      "圓周長: 37.68\n",
      "圓面積: 113.04\n"
     ]
    }
   ],
   "source": [
    "r = float(input('輸入圓的半徑: '))\n",
    "c = 2 * 3.14 * r    # 圓周長\n",
    "a = 3.14 * r * r    # 圓面積\n",
    "print('圓周長: %.2f' % c)\n",
    "print('圓面積: %.2f' % a)"
   ]
  },
  {
   "cell_type": "markdown",
   "metadata": {},
   "source": [
    "### 3. 閏年識別"
   ]
  },
  {
   "cell_type": "code",
   "execution_count": 58,
   "metadata": {},
   "outputs": [
    {
     "name": "stdout",
     "output_type": "stream",
     "text": [
      "False\n"
     ]
    }
   ],
   "source": [
    "year = int(input('輸入年分: '))\n",
    "y = year % 4 == 0 and year % 100 != 0 or \\\n",
    "    year % 400 == 0\n",
    "# 程式碼太長使用 \\ 折行 , % 為取餘數\n",
    "print(y)"
   ]
  }
 ],
 "metadata": {
  "kernelspec": {
   "display_name": "base",
   "language": "python",
   "name": "python3"
  },
  "language_info": {
   "codemirror_mode": {
    "name": "ipython",
    "version": 3
   },
   "file_extension": ".py",
   "mimetype": "text/x-python",
   "name": "python",
   "nbconvert_exporter": "python",
   "pygments_lexer": "ipython3",
   "version": "3.12.3"
  }
 },
 "nbformat": 4,
 "nbformat_minor": 2
}
